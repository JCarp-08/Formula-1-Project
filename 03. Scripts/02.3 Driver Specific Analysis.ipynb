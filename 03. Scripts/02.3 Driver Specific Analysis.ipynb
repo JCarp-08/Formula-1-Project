{
 "cells": [
  {
   "cell_type": "markdown",
   "id": "271664e4",
   "metadata": {},
   "source": [
    "# Driver Specific Analysis\n",
    "## 01. Import Libraries"
   ]
  },
  {
   "cell_type": "code",
   "execution_count": 1,
   "id": "33892aa5",
   "metadata": {},
   "outputs": [],
   "source": [
    "import pandas as pd\n",
    "import numpy as np\n",
    "import os\n",
    "import matplotlib\n",
    "import matplotlib.pyplot as plt\n",
    "import seaborn as sns"
   ]
  },
  {
   "cell_type": "markdown",
   "id": "4862efa3",
   "metadata": {},
   "source": [
    "## 02. Data"
   ]
  },
  {
   "cell_type": "code",
   "execution_count": 2,
   "id": "b713bc1d",
   "metadata": {},
   "outputs": [],
   "source": [
    "res = pd.read_csv(r\"C:\\Users\\jmanc\\OneDrive\\Desktop\\F1 Project\\Data\\Prepped Data\\res_sub.csv\")"
   ]
  },
  {
   "cell_type": "code",
   "execution_count": 3,
   "id": "00e36cbe",
   "metadata": {},
   "outputs": [
    {
     "data": {
      "text/html": [
       "<div>\n",
       "<style scoped>\n",
       "    .dataframe tbody tr th:only-of-type {\n",
       "        vertical-align: middle;\n",
       "    }\n",
       "\n",
       "    .dataframe tbody tr th {\n",
       "        vertical-align: top;\n",
       "    }\n",
       "\n",
       "    .dataframe thead th {\n",
       "        text-align: right;\n",
       "    }\n",
       "</style>\n",
       "<table border=\"1\" class=\"dataframe\">\n",
       "  <thead>\n",
       "    <tr style=\"text-align: right;\">\n",
       "      <th></th>\n",
       "      <th>resultId</th>\n",
       "      <th>raceId</th>\n",
       "      <th>driverId</th>\n",
       "      <th>constructorId</th>\n",
       "      <th>grid</th>\n",
       "      <th>position</th>\n",
       "      <th>positionOrder</th>\n",
       "      <th>laps</th>\n",
       "      <th>milliseconds</th>\n",
       "      <th>fastestLap</th>\n",
       "      <th>...</th>\n",
       "      <th>circuit</th>\n",
       "      <th>location</th>\n",
       "      <th>driverStandingsId</th>\n",
       "      <th>driverPoints</th>\n",
       "      <th>standing</th>\n",
       "      <th>driverWins</th>\n",
       "      <th>constructorStandingsId</th>\n",
       "      <th>constructorPoints</th>\n",
       "      <th>constructorStanding</th>\n",
       "      <th>constructorWins</th>\n",
       "    </tr>\n",
       "  </thead>\n",
       "  <tbody>\n",
       "    <tr>\n",
       "      <th>0</th>\n",
       "      <td>1</td>\n",
       "      <td>18</td>\n",
       "      <td>1</td>\n",
       "      <td>1</td>\n",
       "      <td>1</td>\n",
       "      <td>1.0</td>\n",
       "      <td>1</td>\n",
       "      <td>58</td>\n",
       "      <td>5690616.0</td>\n",
       "      <td>39.0</td>\n",
       "      <td>...</td>\n",
       "      <td>Albert Park Grand Prix Circuit</td>\n",
       "      <td>Melbourne</td>\n",
       "      <td>1</td>\n",
       "      <td>10.0</td>\n",
       "      <td>1</td>\n",
       "      <td>1</td>\n",
       "      <td>1</td>\n",
       "      <td>14.0</td>\n",
       "      <td>1</td>\n",
       "      <td>1</td>\n",
       "    </tr>\n",
       "  </tbody>\n",
       "</table>\n",
       "<p>1 rows × 28 columns</p>\n",
       "</div>"
      ],
      "text/plain": [
       "   resultId  raceId  driverId  constructorId  grid  position  positionOrder  \\\n",
       "0         1      18         1              1     1       1.0              1   \n",
       "\n",
       "   laps  milliseconds  fastestLap  ...                         circuit  \\\n",
       "0    58     5690616.0        39.0  ...  Albert Park Grand Prix Circuit   \n",
       "\n",
       "    location  driverStandingsId  driverPoints  standing  driverWins  \\\n",
       "0  Melbourne                  1          10.0         1           1   \n",
       "\n",
       "   constructorStandingsId constructorPoints constructorStanding  \\\n",
       "0                       1              14.0                   1   \n",
       "\n",
       "  constructorWins  \n",
       "0               1  \n",
       "\n",
       "[1 rows x 28 columns]"
      ]
     },
     "execution_count": 3,
     "metadata": {},
     "output_type": "execute_result"
    }
   ],
   "source": [
    "res.head(1)"
   ]
  },
  {
   "cell_type": "code",
   "execution_count": 4,
   "id": "b94fabf4",
   "metadata": {},
   "outputs": [
    {
     "data": {
      "text/plain": [
       "Index(['resultId', 'raceId', 'driverId', 'constructorId', 'grid', 'position',\n",
       "       'positionOrder', 'laps', 'milliseconds', 'fastestLap', 'rank',\n",
       "       'fastestLapTime', 'fastestLapSpeed', 'statusId', 'season', 'round',\n",
       "       'circuitId', 'grandPrix', 'circuit', 'location', 'driverStandingsId',\n",
       "       'driverPoints', 'standing', 'driverWins', 'constructorStandingsId',\n",
       "       'constructorPoints', 'constructorStanding', 'constructorWins'],\n",
       "      dtype='object')"
      ]
     },
     "execution_count": 4,
     "metadata": {},
     "output_type": "execute_result"
    }
   ],
   "source": [
    "res.columns"
   ]
  },
  {
   "cell_type": "code",
   "execution_count": 5,
   "id": "7287550a",
   "metadata": {},
   "outputs": [],
   "source": [
    "dr = pd.read_pickle(r\"C:\\Users\\jmanc\\OneDrive\\Desktop\\F1 Project\\Data\\Prepped Data\\driverID.pkl\")\n",
    "cn = pd.read_pickle(r\"C:\\Users\\jmanc\\OneDrive\\Desktop\\F1 Project\\Data\\Prepped Data\\constructorID.pkl\")"
   ]
  },
  {
   "cell_type": "code",
   "execution_count": 6,
   "id": "2c00f6bb",
   "metadata": {},
   "outputs": [
    {
     "data": {
      "text/html": [
       "<div>\n",
       "<style scoped>\n",
       "    .dataframe tbody tr th:only-of-type {\n",
       "        vertical-align: middle;\n",
       "    }\n",
       "\n",
       "    .dataframe tbody tr th {\n",
       "        vertical-align: top;\n",
       "    }\n",
       "\n",
       "    .dataframe thead th {\n",
       "        text-align: right;\n",
       "    }\n",
       "</style>\n",
       "<table border=\"1\" class=\"dataframe\">\n",
       "  <thead>\n",
       "    <tr style=\"text-align: right;\">\n",
       "      <th></th>\n",
       "      <th>driverId</th>\n",
       "      <th>driverRef</th>\n",
       "      <th>number</th>\n",
       "      <th>code</th>\n",
       "      <th>forename</th>\n",
       "      <th>surname</th>\n",
       "      <th>dob</th>\n",
       "      <th>nationality</th>\n",
       "    </tr>\n",
       "  </thead>\n",
       "  <tbody>\n",
       "    <tr>\n",
       "      <th>0</th>\n",
       "      <td>1</td>\n",
       "      <td>hamilton</td>\n",
       "      <td>44</td>\n",
       "      <td>HAM</td>\n",
       "      <td>Lewis</td>\n",
       "      <td>Hamilton</td>\n",
       "      <td>1985-01-07</td>\n",
       "      <td>British</td>\n",
       "    </tr>\n",
       "  </tbody>\n",
       "</table>\n",
       "</div>"
      ],
      "text/plain": [
       "   driverId driverRef number code forename   surname         dob nationality\n",
       "0         1  hamilton     44  HAM    Lewis  Hamilton  1985-01-07     British"
      ]
     },
     "execution_count": 6,
     "metadata": {},
     "output_type": "execute_result"
    }
   ],
   "source": [
    "dr.head(1)"
   ]
  },
  {
   "cell_type": "code",
   "execution_count": 7,
   "id": "4fefebe2",
   "metadata": {},
   "outputs": [
    {
     "data": {
      "text/html": [
       "<div>\n",
       "<style scoped>\n",
       "    .dataframe tbody tr th:only-of-type {\n",
       "        vertical-align: middle;\n",
       "    }\n",
       "\n",
       "    .dataframe tbody tr th {\n",
       "        vertical-align: top;\n",
       "    }\n",
       "\n",
       "    .dataframe thead th {\n",
       "        text-align: right;\n",
       "    }\n",
       "</style>\n",
       "<table border=\"1\" class=\"dataframe\">\n",
       "  <thead>\n",
       "    <tr style=\"text-align: right;\">\n",
       "      <th></th>\n",
       "      <th>driverId</th>\n",
       "      <th>driverRef</th>\n",
       "      <th>code</th>\n",
       "    </tr>\n",
       "  </thead>\n",
       "  <tbody>\n",
       "    <tr>\n",
       "      <th>0</th>\n",
       "      <td>1</td>\n",
       "      <td>hamilton</td>\n",
       "      <td>HAM</td>\n",
       "    </tr>\n",
       "  </tbody>\n",
       "</table>\n",
       "</div>"
      ],
      "text/plain": [
       "   driverId driverRef code\n",
       "0         1  hamilton  HAM"
      ]
     },
     "execution_count": 7,
     "metadata": {},
     "output_type": "execute_result"
    }
   ],
   "source": [
    "dr = dr.drop(['number','dob','nationality','forename','surname'], axis = 1)\n",
    "dr.head(1)"
   ]
  },
  {
   "cell_type": "code",
   "execution_count": 8,
   "id": "7ab8e157",
   "metadata": {},
   "outputs": [
    {
     "data": {
      "text/html": [
       "<div>\n",
       "<style scoped>\n",
       "    .dataframe tbody tr th:only-of-type {\n",
       "        vertical-align: middle;\n",
       "    }\n",
       "\n",
       "    .dataframe tbody tr th {\n",
       "        vertical-align: top;\n",
       "    }\n",
       "\n",
       "    .dataframe thead th {\n",
       "        text-align: right;\n",
       "    }\n",
       "</style>\n",
       "<table border=\"1\" class=\"dataframe\">\n",
       "  <thead>\n",
       "    <tr style=\"text-align: right;\">\n",
       "      <th></th>\n",
       "      <th>constructorId</th>\n",
       "      <th>constructorRef</th>\n",
       "      <th>name</th>\n",
       "      <th>con_nat</th>\n",
       "    </tr>\n",
       "  </thead>\n",
       "  <tbody>\n",
       "    <tr>\n",
       "      <th>0</th>\n",
       "      <td>1</td>\n",
       "      <td>mclaren</td>\n",
       "      <td>McLaren</td>\n",
       "      <td>British</td>\n",
       "    </tr>\n",
       "  </tbody>\n",
       "</table>\n",
       "</div>"
      ],
      "text/plain": [
       "   constructorId constructorRef     name  con_nat\n",
       "0              1        mclaren  McLaren  British"
      ]
     },
     "execution_count": 8,
     "metadata": {},
     "output_type": "execute_result"
    }
   ],
   "source": [
    "cn.head(1)"
   ]
  },
  {
   "cell_type": "code",
   "execution_count": 9,
   "id": "5a1c6ae8",
   "metadata": {},
   "outputs": [],
   "source": [
    "cn = cn.drop('con_nat', axis = 1)"
   ]
  },
  {
   "cell_type": "code",
   "execution_count": 11,
   "id": "cd6aa704",
   "metadata": {},
   "outputs": [
    {
     "data": {
      "text/html": [
       "<div>\n",
       "<style scoped>\n",
       "    .dataframe tbody tr th:only-of-type {\n",
       "        vertical-align: middle;\n",
       "    }\n",
       "\n",
       "    .dataframe tbody tr th {\n",
       "        vertical-align: top;\n",
       "    }\n",
       "\n",
       "    .dataframe thead th {\n",
       "        text-align: right;\n",
       "    }\n",
       "</style>\n",
       "<table border=\"1\" class=\"dataframe\">\n",
       "  <thead>\n",
       "    <tr style=\"text-align: right;\">\n",
       "      <th></th>\n",
       "      <th>constructorId</th>\n",
       "      <th>constructorRef</th>\n",
       "      <th>name</th>\n",
       "      <th>resultId</th>\n",
       "      <th>raceId</th>\n",
       "      <th>driverId</th>\n",
       "      <th>grid</th>\n",
       "      <th>position</th>\n",
       "      <th>positionOrder</th>\n",
       "      <th>laps</th>\n",
       "      <th>...</th>\n",
       "      <th>circuit</th>\n",
       "      <th>location</th>\n",
       "      <th>driverStandingsId</th>\n",
       "      <th>driverPoints</th>\n",
       "      <th>standing</th>\n",
       "      <th>driverWins</th>\n",
       "      <th>constructorStandingsId</th>\n",
       "      <th>constructorPoints</th>\n",
       "      <th>constructorStanding</th>\n",
       "      <th>constructorWins</th>\n",
       "    </tr>\n",
       "  </thead>\n",
       "  <tbody>\n",
       "    <tr>\n",
       "      <th>0</th>\n",
       "      <td>1</td>\n",
       "      <td>mclaren</td>\n",
       "      <td>McLaren</td>\n",
       "      <td>1</td>\n",
       "      <td>18</td>\n",
       "      <td>1</td>\n",
       "      <td>1</td>\n",
       "      <td>1.0</td>\n",
       "      <td>1</td>\n",
       "      <td>58</td>\n",
       "      <td>...</td>\n",
       "      <td>Albert Park Grand Prix Circuit</td>\n",
       "      <td>Melbourne</td>\n",
       "      <td>1</td>\n",
       "      <td>10.0</td>\n",
       "      <td>1</td>\n",
       "      <td>1</td>\n",
       "      <td>1</td>\n",
       "      <td>14.0</td>\n",
       "      <td>1</td>\n",
       "      <td>1</td>\n",
       "    </tr>\n",
       "  </tbody>\n",
       "</table>\n",
       "<p>1 rows × 30 columns</p>\n",
       "</div>"
      ],
      "text/plain": [
       "   constructorId constructorRef     name  resultId  raceId  driverId  grid  \\\n",
       "0              1        mclaren  McLaren         1      18         1     1   \n",
       "\n",
       "   position  positionOrder  laps  ...                         circuit  \\\n",
       "0       1.0              1    58  ...  Albert Park Grand Prix Circuit   \n",
       "\n",
       "    location  driverStandingsId driverPoints  standing  driverWins  \\\n",
       "0  Melbourne                  1         10.0         1           1   \n",
       "\n",
       "   constructorStandingsId  constructorPoints  constructorStanding  \\\n",
       "0                       1               14.0                    1   \n",
       "\n",
       "  constructorWins  \n",
       "0               1  \n",
       "\n",
       "[1 rows x 30 columns]"
      ]
     },
     "execution_count": 11,
     "metadata": {},
     "output_type": "execute_result"
    }
   ],
   "source": [
    "merge = cn.merge(res, on = 'constructorId')\n",
    "merge.head(1)"
   ]
  },
  {
   "cell_type": "code",
   "execution_count": 12,
   "id": "4cf027db",
   "metadata": {},
   "outputs": [
    {
     "data": {
      "text/html": [
       "<div>\n",
       "<style scoped>\n",
       "    .dataframe tbody tr th:only-of-type {\n",
       "        vertical-align: middle;\n",
       "    }\n",
       "\n",
       "    .dataframe tbody tr th {\n",
       "        vertical-align: top;\n",
       "    }\n",
       "\n",
       "    .dataframe thead th {\n",
       "        text-align: right;\n",
       "    }\n",
       "</style>\n",
       "<table border=\"1\" class=\"dataframe\">\n",
       "  <thead>\n",
       "    <tr style=\"text-align: right;\">\n",
       "      <th></th>\n",
       "      <th>driverId</th>\n",
       "      <th>driverRef</th>\n",
       "      <th>code</th>\n",
       "      <th>constructorId</th>\n",
       "      <th>constructorRef</th>\n",
       "      <th>name</th>\n",
       "      <th>resultId</th>\n",
       "      <th>raceId</th>\n",
       "      <th>grid</th>\n",
       "      <th>position</th>\n",
       "      <th>...</th>\n",
       "      <th>circuit</th>\n",
       "      <th>location</th>\n",
       "      <th>driverStandingsId</th>\n",
       "      <th>driverPoints</th>\n",
       "      <th>standing</th>\n",
       "      <th>driverWins</th>\n",
       "      <th>constructorStandingsId</th>\n",
       "      <th>constructorPoints</th>\n",
       "      <th>constructorStanding</th>\n",
       "      <th>constructorWins</th>\n",
       "    </tr>\n",
       "  </thead>\n",
       "  <tbody>\n",
       "    <tr>\n",
       "      <th>0</th>\n",
       "      <td>1</td>\n",
       "      <td>hamilton</td>\n",
       "      <td>HAM</td>\n",
       "      <td>1</td>\n",
       "      <td>mclaren</td>\n",
       "      <td>McLaren</td>\n",
       "      <td>1</td>\n",
       "      <td>18</td>\n",
       "      <td>1</td>\n",
       "      <td>1.0</td>\n",
       "      <td>...</td>\n",
       "      <td>Albert Park Grand Prix Circuit</td>\n",
       "      <td>Melbourne</td>\n",
       "      <td>1</td>\n",
       "      <td>10.0</td>\n",
       "      <td>1</td>\n",
       "      <td>1</td>\n",
       "      <td>1</td>\n",
       "      <td>14.0</td>\n",
       "      <td>1</td>\n",
       "      <td>1</td>\n",
       "    </tr>\n",
       "  </tbody>\n",
       "</table>\n",
       "<p>1 rows × 32 columns</p>\n",
       "</div>"
      ],
      "text/plain": [
       "   driverId driverRef code  constructorId constructorRef     name  resultId  \\\n",
       "0         1  hamilton  HAM              1        mclaren  McLaren         1   \n",
       "\n",
       "   raceId  grid  position  ...                         circuit   location  \\\n",
       "0      18     1       1.0  ...  Albert Park Grand Prix Circuit  Melbourne   \n",
       "\n",
       "   driverStandingsId  driverPoints  standing driverWins  \\\n",
       "0                  1          10.0         1          1   \n",
       "\n",
       "   constructorStandingsId  constructorPoints  constructorStanding  \\\n",
       "0                       1               14.0                    1   \n",
       "\n",
       "   constructorWins  \n",
       "0                1  \n",
       "\n",
       "[1 rows x 32 columns]"
      ]
     },
     "execution_count": 12,
     "metadata": {},
     "output_type": "execute_result"
    }
   ],
   "source": [
    "merge = dr.merge(merge, on = 'driverId')\n",
    "merge.head(1)"
   ]
  },
  {
   "cell_type": "code",
   "execution_count": 13,
   "id": "fa43102a",
   "metadata": {},
   "outputs": [],
   "source": [
    "merge.to_csv(r\"C:\\Users\\jmanc\\OneDrive\\Desktop\\F1 Project\\Data\\Prepped Data\\F1Merge.csv\")"
   ]
  },
  {
   "cell_type": "code",
   "execution_count": null,
   "id": "dc2e1477",
   "metadata": {},
   "outputs": [],
   "source": []
  }
 ],
 "metadata": {
  "kernelspec": {
   "display_name": "Python 3 (ipykernel)",
   "language": "python",
   "name": "python3"
  },
  "language_info": {
   "codemirror_mode": {
    "name": "ipython",
    "version": 3
   },
   "file_extension": ".py",
   "mimetype": "text/x-python",
   "name": "python",
   "nbconvert_exporter": "python",
   "pygments_lexer": "ipython3",
   "version": "3.10.9"
  }
 },
 "nbformat": 4,
 "nbformat_minor": 5
}
