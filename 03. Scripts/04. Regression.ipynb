{
 "cells": [
  {
   "cell_type": "markdown",
   "id": "1a71ee33",
   "metadata": {},
   "source": [
    "# Supervised Machine Learning\n",
    "## 01. Import Libraries"
   ]
  },
  {
   "cell_type": "code",
   "execution_count": 1,
   "id": "8ca70da8",
   "metadata": {},
   "outputs": [],
   "source": [
    "import pandas as pd\n",
    "import numpy as np\n",
    "import seaborn as sns\n",
    "import matplotlib.pyplot as plt\n",
    "import matplotlib\n",
    "import os\n",
    "import sklearn\n",
    "from sklearn.model_selection import train_test_split\n",
    "from sklearn.linear_model import LinearRegression\n",
    "from sklearn.metrics import mean_squared_error, r2_score"
   ]
  },
  {
   "cell_type": "markdown",
   "id": "f3167c61",
   "metadata": {},
   "source": [
    "## 02. Data"
   ]
  },
  {
   "cell_type": "code",
   "execution_count": 5,
   "id": "1e41c106",
   "metadata": {},
   "outputs": [
    {
     "data": {
      "text/html": [
       "<div>\n",
       "<style scoped>\n",
       "    .dataframe tbody tr th:only-of-type {\n",
       "        vertical-align: middle;\n",
       "    }\n",
       "\n",
       "    .dataframe tbody tr th {\n",
       "        vertical-align: top;\n",
       "    }\n",
       "\n",
       "    .dataframe thead th {\n",
       "        text-align: right;\n",
       "    }\n",
       "</style>\n",
       "<table border=\"1\" class=\"dataframe\">\n",
       "  <thead>\n",
       "    <tr style=\"text-align: right;\">\n",
       "      <th></th>\n",
       "      <th>resultId</th>\n",
       "      <th>raceId</th>\n",
       "      <th>driverId</th>\n",
       "      <th>constructorId</th>\n",
       "      <th>number</th>\n",
       "      <th>grid</th>\n",
       "      <th>position</th>\n",
       "      <th>positionText</th>\n",
       "      <th>positionOrder</th>\n",
       "      <th>points</th>\n",
       "      <th>...</th>\n",
       "      <th>driverRef</th>\n",
       "      <th>code</th>\n",
       "      <th>forename</th>\n",
       "      <th>surname</th>\n",
       "      <th>nationality</th>\n",
       "      <th>lap_num</th>\n",
       "      <th>lap_pos</th>\n",
       "      <th>lap_time</th>\n",
       "      <th>lap_milli</th>\n",
       "      <th>status</th>\n",
       "    </tr>\n",
       "  </thead>\n",
       "  <tbody>\n",
       "    <tr>\n",
       "      <th>0</th>\n",
       "      <td>22131</td>\n",
       "      <td>900</td>\n",
       "      <td>825</td>\n",
       "      <td>1</td>\n",
       "      <td>20</td>\n",
       "      <td>4</td>\n",
       "      <td>2.0</td>\n",
       "      <td>2</td>\n",
       "      <td>2</td>\n",
       "      <td>18.0</td>\n",
       "      <td>...</td>\n",
       "      <td>kevin_magnussen</td>\n",
       "      <td>MAG</td>\n",
       "      <td>Kevin</td>\n",
       "      <td>Magnussen</td>\n",
       "      <td>Danish</td>\n",
       "      <td>1</td>\n",
       "      <td>3</td>\n",
       "      <td>01:45.4</td>\n",
       "      <td>105402</td>\n",
       "      <td>Finished</td>\n",
       "    </tr>\n",
       "  </tbody>\n",
       "</table>\n",
       "<p>1 rows × 30 columns</p>\n",
       "</div>"
      ],
      "text/plain": [
       "   resultId  raceId  driverId  constructorId  number  grid  position  \\\n",
       "0     22131     900       825              1      20     4       2.0   \n",
       "\n",
       "  positionText  positionOrder  points  ...        driverRef  code  forename  \\\n",
       "0            2              2    18.0  ...  kevin_magnussen   MAG     Kevin   \n",
       "\n",
       "     surname nationality  lap_num  lap_pos lap_time lap_milli    status  \n",
       "0  Magnussen      Danish        1        3  01:45.4    105402  Finished  \n",
       "\n",
       "[1 rows x 30 columns]"
      ]
     },
     "execution_count": 5,
     "metadata": {},
     "output_type": "execute_result"
    }
   ],
   "source": [
    "rc = pd.read_pickle(r\"C:\\Users\\jmanc\\OneDrive\\Desktop\\F1 Project\\Data\\Prepped Data\\races.pkl\")\n",
    "fset = pd.read_pickle(r\"C:\\Users\\jmanc\\OneDrive\\Desktop\\F1 Project\\Data\\Prepped Data\\race_lap_full.pkl\")\n",
    "fset.head(1)"
   ]
  },
  {
   "cell_type": "code",
   "execution_count": 6,
   "id": "08d1cefc",
   "metadata": {},
   "outputs": [
    {
     "data": {
      "text/plain": [
       "Index(['raceId', 'year', 'round', 'circuitId', 'name', 'date', 'time',\n",
       "       'quali_date', 'quali_time', 'sprint_date', 'sprint_time'],\n",
       "      dtype='object')"
      ]
     },
     "execution_count": 6,
     "metadata": {},
     "output_type": "execute_result"
    }
   ],
   "source": [
    "rc.columns"
   ]
  },
  {
   "cell_type": "code",
   "execution_count": 8,
   "id": "ee95eb38",
   "metadata": {},
   "outputs": [
    {
     "data": {
      "text/html": [
       "<div>\n",
       "<style scoped>\n",
       "    .dataframe tbody tr th:only-of-type {\n",
       "        vertical-align: middle;\n",
       "    }\n",
       "\n",
       "    .dataframe tbody tr th {\n",
       "        vertical-align: top;\n",
       "    }\n",
       "\n",
       "    .dataframe thead th {\n",
       "        text-align: right;\n",
       "    }\n",
       "</style>\n",
       "<table border=\"1\" class=\"dataframe\">\n",
       "  <thead>\n",
       "    <tr style=\"text-align: right;\">\n",
       "      <th></th>\n",
       "      <th>raceId</th>\n",
       "      <th>year</th>\n",
       "    </tr>\n",
       "  </thead>\n",
       "  <tbody>\n",
       "    <tr>\n",
       "      <th>0</th>\n",
       "      <td>1</td>\n",
       "      <td>2009</td>\n",
       "    </tr>\n",
       "    <tr>\n",
       "      <th>1</th>\n",
       "      <td>2</td>\n",
       "      <td>2009</td>\n",
       "    </tr>\n",
       "    <tr>\n",
       "      <th>2</th>\n",
       "      <td>3</td>\n",
       "      <td>2009</td>\n",
       "    </tr>\n",
       "    <tr>\n",
       "      <th>3</th>\n",
       "      <td>4</td>\n",
       "      <td>2009</td>\n",
       "    </tr>\n",
       "    <tr>\n",
       "      <th>4</th>\n",
       "      <td>5</td>\n",
       "      <td>2009</td>\n",
       "    </tr>\n",
       "  </tbody>\n",
       "</table>\n",
       "</div>"
      ],
      "text/plain": [
       "   raceId  year\n",
       "0       1  2009\n",
       "1       2  2009\n",
       "2       3  2009\n",
       "3       4  2009\n",
       "4       5  2009"
      ]
     },
     "execution_count": 8,
     "metadata": {},
     "output_type": "execute_result"
    }
   ],
   "source": [
    "#creating new data frame to add years back to the full set\n",
    "year = rc.drop(['round','circuitId','name','date','time','quali_date','quali_time','sprint_date','sprint_time'],axis=1)\n",
    "year.head()"
   ]
  },
  {
   "cell_type": "code",
   "execution_count": 9,
   "id": "ee6535fb",
   "metadata": {},
   "outputs": [
    {
     "data": {
      "text/plain": [
       "Index(['resultId', 'raceId', 'driverId', 'constructorId', 'number', 'grid',\n",
       "       'position', 'positionText', 'positionOrder', 'points', 'laps',\n",
       "       'raceTimeMilli', 'fastestLap', 'rank', 'fastestLapTime',\n",
       "       'fastestLapSpeed', 'statusId', 'constructorRef', 'name', 'con_nat',\n",
       "       'driverRef', 'code', 'forename', 'surname', 'nationality', 'lap_num',\n",
       "       'lap_pos', 'lap_time', 'lap_milli', 'status', 'year'],\n",
       "      dtype='object')"
      ]
     },
     "execution_count": 9,
     "metadata": {},
     "output_type": "execute_result"
    }
   ],
   "source": [
    "#adding year to full set and checking for completion\n",
    "fset = fset.merge(year, on = 'raceId')\n",
    "fset.columns"
   ]
  },
  {
   "cell_type": "code",
   "execution_count": 10,
   "id": "30fc31df",
   "metadata": {},
   "outputs": [],
   "source": [
    "#exporting change\n",
    "fset.to_pickle(r\"C:\\Users\\jmanc\\OneDrive\\Desktop\\F1 Project\\Data\\Prepped Data\\race_lap_full.pkl\")"
   ]
  },
  {
   "cell_type": "code",
   "execution_count": 19,
   "id": "a85ce061",
   "metadata": {},
   "outputs": [
    {
     "data": {
      "text/plain": [
       "raceId    int64\n",
       "year      int64\n",
       "dtype: object"
      ]
     },
     "execution_count": 19,
     "metadata": {},
     "output_type": "execute_result"
    }
   ],
   "source": [
    "#creating eras category for easy comparison.\n",
    "year.dtypes"
   ]
  },
  {
   "cell_type": "code",
   "execution_count": 20,
   "id": "9ed616df",
   "metadata": {},
   "outputs": [],
   "source": [
    "#eras by decade\n",
    "fset.loc[fset['year'] < 1960, 'era'] = '1950s'\n",
    "fset.loc[(fset['year'] >= 1960) & (fset['year'] < 1970), 'era'] = '1960s'\n",
    "fset.loc[(fset['year'] >= 1970) & (fset['year'] < 1980), 'era'] = '1970s'\n",
    "fset.loc[(fset['year'] >= 1980) & (fset['year'] < 1990), 'era'] = '1980s'\n",
    "fset.loc[(fset['year'] >= 1990) & (fset['year'] < 2000), 'era'] = '1990s'\n",
    "fset.loc[(fset['year'] >= 2000) & (fset['year'] < 2010), 'era'] = '2000s'\n",
    "fset.loc[(fset['year'] >= 2010) & (fset['year'] < 2020), 'era'] = '2010s'\n",
    "fset.loc[fset['year'] >= 2020, 'era'] = '2020s'"
   ]
  },
  {
   "cell_type": "code",
   "execution_count": 25,
   "id": "baac332a",
   "metadata": {},
   "outputs": [
    {
     "data": {
      "text/plain": [
       "2010s    133269\n",
       "2020s     71792\n",
       "2000s      1358\n",
       "Name: era, dtype: int64"
      ]
     },
     "execution_count": 25,
     "metadata": {},
     "output_type": "execute_result"
    }
   ],
   "source": [
    "fset['era'].value_counts()"
   ]
  },
  {
   "cell_type": "code",
   "execution_count": 24,
   "id": "9b9be8b0",
   "metadata": {},
   "outputs": [
    {
     "data": {
      "text/plain": [
       "(206419, 32)"
      ]
     },
     "execution_count": 24,
     "metadata": {},
     "output_type": "execute_result"
    }
   ],
   "source": [
    "fset.shape"
   ]
  },
  {
   "cell_type": "code",
   "execution_count": 29,
   "id": "02fe509f",
   "metadata": {},
   "outputs": [
    {
     "data": {
      "text/plain": [
       "97497.36973340632"
      ]
     },
     "execution_count": 29,
     "metadata": {},
     "output_type": "execute_result"
    }
   ],
   "source": [
    "fset['lap_milli'].mean()"
   ]
  },
  {
   "cell_type": "markdown",
   "id": "cb2a6b4e",
   "metadata": {},
   "source": [
    "## 03. Regression Prep"
   ]
  },
  {
   "cell_type": "code",
   "execution_count": 27,
   "id": "7261928f",
   "metadata": {},
   "outputs": [
    {
     "data": {
      "text/plain": [
       "<seaborn.axisgrid.FacetGrid at 0x2968009bc40>"
      ]
     },
     "execution_count": 27,
     "metadata": {},
     "output_type": "execute_result"
    },
    {
     "data": {
      "image/png": "[encoded data removed]",
      "text/plain": [
       "<Figure size 500x500 with 1 Axes>"
      ]
     },
     "metadata": {},
     "output_type": "display_data"
    }
   ],
   "source": [
    "#scatterplot\n",
    "sns.lmplot(x = 'lap_num', y = 'lap_milli', data = fset)"
   ]
  },
  {
   "cell_type": "markdown",
   "id": "67c088e1",
   "metadata": {},
   "source": [
    "#### Hypothesis:\n",
    "The earlier the lap, the higher the lap time."
   ]
  },
  {
   "cell_type": "code",
   "execution_count": 31,
   "id": "fd90a2c1",
   "metadata": {},
   "outputs": [],
   "source": [
    "X = fset['lap_num'].values.reshape(-1,1)\n",
    "y = fset['lap_milli'].values.reshape(-1,1)"
   ]
  },
  {
   "cell_type": "code",
   "execution_count": 32,
   "id": "3e7a44da",
   "metadata": {},
   "outputs": [],
   "source": [
    "#splitting data into train and test sets\n",
    "X_train, X_test, y_train, y_test = train_test_split(X, y, test_size=0.3, random_state = 0)"
   ]
  },
  {
   "cell_type": "markdown",
   "id": "cf9a3a83",
   "metadata": {},
   "source": [
    "## 04. Regression Analysis"
   ]
  },
  {
   "cell_type": "code",
   "execution_count": 33,
   "id": "ca6c3f38",
   "metadata": {},
   "outputs": [],
   "source": [
    "#creating Regression\n",
    "reg = LinearRegression()"
   ]
  },
  {
   "cell_type": "code",
   "execution_count": 34,
   "id": "303ad55c",
   "metadata": {},
   "outputs": [
    {
     "data": {
      "text/html": [
       "<style>#sk-container-id-1 {color: black;background-color: white;}#sk-container-id-1 pre{padding: 0;}#sk-container-id-1 div.sk-toggleable {background-color: white;}#sk-container-id-1 label.sk-toggleable__label {cursor: pointer;display: block;width: 100%;margin-bottom: 0;padding: 0.3em;box-sizing: border-box;text-align: center;}#sk-container-id-1 label.sk-toggleable__label-arrow:before {content: \"▸\";float: left;margin-right: 0.25em;color: #696969;}#sk-container-id-1 label.sk-toggleable__label-arrow:hover:before {color: black;}#sk-container-id-1 div.sk-estimator:hover label.sk-toggleable__label-arrow:before {color: black;}#sk-container-id-1 div.sk-toggleable__content {max-height: 0;max-width: 0;overflow: hidden;text-align: left;background-color: #f0f8ff;}#sk-container-id-1 div.sk-toggleable__content pre {margin: 0.2em;color: black;border-radius: 0.25em;background-color: #f0f8ff;}#sk-container-id-1 input.sk-toggleable__control:checked~div.sk-toggleable__content {max-height: 200px;max-width: 100%;overflow: auto;}#sk-container-id-1 input.sk-toggleable__control:checked~label.sk-toggleable__label-arrow:before {content: \"▾\";}#sk-container-id-1 div.sk-estimator input.sk-toggleable__control:checked~label.sk-toggleable__label {background-color: #d4ebff;}#sk-container-id-1 div.sk-label input.sk-toggleable__control:checked~label.sk-toggleable__label {background-color: #d4ebff;}#sk-container-id-1 input.sk-hidden--visually {border: 0;clip: rect(1px 1px 1px 1px);clip: rect(1px, 1px, 1px, 1px);height: 1px;margin: -1px;overflow: hidden;padding: 0;position: absolute;width: 1px;}#sk-container-id-1 div.sk-estimator {font-family: monospace;background-color: #f0f8ff;border: 1px dotted black;border-radius: 0.25em;box-sizing: border-box;margin-bottom: 0.5em;}#sk-container-id-1 div.sk-estimator:hover {background-color: #d4ebff;}#sk-container-id-1 div.sk-parallel-item::after {content: \"\";width: 100%;border-bottom: 1px solid gray;flex-grow: 1;}#sk-container-id-1 div.sk-label:hover label.sk-toggleable__label {background-color: #d4ebff;}#sk-container-id-1 div.sk-serial::before {content: \"\";position: absolute;border-left: 1px solid gray;box-sizing: border-box;top: 0;bottom: 0;left: 50%;z-index: 0;}#sk-container-id-1 div.sk-serial {display: flex;flex-direction: column;align-items: center;background-color: white;padding-right: 0.2em;padding-left: 0.2em;position: relative;}#sk-container-id-1 div.sk-item {position: relative;z-index: 1;}#sk-container-id-1 div.sk-parallel {display: flex;align-items: stretch;justify-content: center;background-color: white;position: relative;}#sk-container-id-1 div.sk-item::before, #sk-container-id-1 div.sk-parallel-item::before {content: \"\";position: absolute;border-left: 1px solid gray;box-sizing: border-box;top: 0;bottom: 0;left: 50%;z-index: -1;}#sk-container-id-1 div.sk-parallel-item {display: flex;flex-direction: column;z-index: 1;position: relative;background-color: white;}#sk-container-id-1 div.sk-parallel-item:first-child::after {align-self: flex-end;width: 50%;}#sk-container-id-1 div.sk-parallel-item:last-child::after {align-self: flex-start;width: 50%;}#sk-container-id-1 div.sk-parallel-item:only-child::after {width: 0;}#sk-container-id-1 div.sk-dashed-wrapped {border: 1px dashed gray;margin: 0 0.4em 0.5em 0.4em;box-sizing: border-box;padding-bottom: 0.4em;background-color: white;}#sk-container-id-1 div.sk-label label {font-family: monospace;font-weight: bold;display: inline-block;line-height: 1.2em;}#sk-container-id-1 div.sk-label-container {text-align: center;}#sk-container-id-1 div.sk-container {/* jupyter's `normalize.less` sets `[hidden] { display: none; }` but bootstrap.min.css set `[hidden] { display: none !important; }` so we also need the `!important` here to be able to override the default hidden behavior on the sphinx rendered scikit-learn.org. See: https://github.com/scikit-learn/scikit-learn/issues/21755 */display: inline-block !important;position: relative;}#sk-container-id-1 div.sk-text-repr-fallback {display: none;}</style><div id=\"sk-container-id-1\" class=\"sk-top-container\"><div class=\"sk-text-repr-fallback\"><pre>LinearRegression()</pre><b>In a Jupyter environment, please rerun this cell to show the HTML representation or trust the notebook. <br />On GitHub, the HTML representation is unable to render, please try loading this page with nbviewer.org.</b></div><div class=\"sk-container\" hidden><div class=\"sk-item\"><div class=\"sk-estimator sk-toggleable\"><input class=\"sk-toggleable__control sk-hidden--visually\" id=\"sk-estimator-id-1\" type=\"checkbox\" checked><label for=\"sk-estimator-id-1\" class=\"sk-toggleable__label sk-toggleable__label-arrow\">LinearRegression</label><div class=\"sk-toggleable__content\"><pre>LinearRegression()</pre></div></div></div></div></div>"
      ],
      "text/plain": [
       "LinearRegression()"
      ]
     },
     "execution_count": 34,
     "metadata": {},
     "output_type": "execute_result"
    }
   ],
   "source": [
    "#training Regression\n",
    "reg.fit(X_train, y_train)"
   ]
  },
  {
   "cell_type": "code",
   "execution_count": 35,
   "id": "59514735",
   "metadata": {},
   "outputs": [],
   "source": [
    "y_pred = reg.predict(X_test)"
   ]
  },
  {
   "cell_type": "code",
   "execution_count": 39,
   "id": "26ab1e17",
   "metadata": {},
   "outputs": [
    {
     "data": {
      "image/png": "[encoded data removed]",
      "text/plain": [
       "<Figure size 640x480 with 1 Axes>"
      ]
     },
     "metadata": {},
     "output_type": "display_data"
    }
   ],
   "source": [
    "#plotting regression\n",
    "plot_test = plt\n",
    "plot_test.scatter(X_test, y_test, color='gray', s = 15)\n",
    "plot_test.plot(X_test, y_pred, color='red', linewidth =3)\n",
    "plot_test.title('Lap Number vs Lap Time (Test set)')\n",
    "plot_test.xlabel('Lap Number')\n",
    "plot_test.ylabel('Lap Time (100K Milliseconds)')\n",
    "plot_test.show()"
   ]
  },
  {
   "cell_type": "markdown",
   "id": "985cbb07",
   "metadata": {},
   "source": [
    "Looks like the model did not perform as well as expected."
   ]
  },
  {
   "cell_type": "code",
   "execution_count": 41,
   "id": "483dc5fc",
   "metadata": {},
   "outputs": [],
   "source": [
    "rmse = mean_squared_error(y_test, y_pred)\n",
    "r2 = r2_score(y_test, y_pred)"
   ]
  },
  {
   "cell_type": "code",
   "execution_count": 42,
   "id": "55395836",
   "metadata": {},
   "outputs": [
    {
     "name": "stdout",
     "output_type": "stream",
     "text": [
      "Slope: [[-388.48650481]]\n",
      "Mean Squared Error: 4492628433.018519\n",
      "R2 Score: 0.009482393152577595\n"
     ]
    }
   ],
   "source": [
    "print('Slope:', reg.coef_)\n",
    "print('Mean Squared Error:', rmse)\n",
    "print('R2 Score:', r2)"
   ]
  },
  {
   "cell_type": "code",
   "execution_count": 43,
   "id": "2c80d204",
   "metadata": {
    "scrolled": true
   },
   "outputs": [
    {
     "data": {
      "text/html": [
       "<div>\n",
       "<style scoped>\n",
       "    .dataframe tbody tr th:only-of-type {\n",
       "        vertical-align: middle;\n",
       "    }\n",
       "\n",
       "    .dataframe tbody tr th {\n",
       "        vertical-align: top;\n",
       "    }\n",
       "\n",
       "    .dataframe thead th {\n",
       "        text-align: right;\n",
       "    }\n",
       "</style>\n",
       "<table border=\"1\" class=\"dataframe\">\n",
       "  <thead>\n",
       "    <tr style=\"text-align: right;\">\n",
       "      <th></th>\n",
       "      <th>Actual</th>\n",
       "      <th>Predicted</th>\n",
       "    </tr>\n",
       "  </thead>\n",
       "  <tbody>\n",
       "    <tr>\n",
       "      <th>0</th>\n",
       "      <td>89276</td>\n",
       "      <td>105574.372738</td>\n",
       "    </tr>\n",
       "    <tr>\n",
       "      <th>1</th>\n",
       "      <td>98200</td>\n",
       "      <td>105574.372738</td>\n",
       "    </tr>\n",
       "    <tr>\n",
       "      <th>2</th>\n",
       "      <td>107339</td>\n",
       "      <td>109070.751281</td>\n",
       "    </tr>\n",
       "    <tr>\n",
       "      <th>3</th>\n",
       "      <td>104199</td>\n",
       "      <td>92365.831574</td>\n",
       "    </tr>\n",
       "    <tr>\n",
       "      <th>4</th>\n",
       "      <td>121338</td>\n",
       "      <td>109070.751281</td>\n",
       "    </tr>\n",
       "    <tr>\n",
       "      <th>5</th>\n",
       "      <td>99003</td>\n",
       "      <td>98193.129147</td>\n",
       "    </tr>\n",
       "    <tr>\n",
       "      <th>6</th>\n",
       "      <td>123212</td>\n",
       "      <td>105185.886233</td>\n",
       "    </tr>\n",
       "    <tr>\n",
       "      <th>7</th>\n",
       "      <td>107444</td>\n",
       "      <td>96250.696622</td>\n",
       "    </tr>\n",
       "    <tr>\n",
       "      <th>8</th>\n",
       "      <td>103769</td>\n",
       "      <td>107516.805262</td>\n",
       "    </tr>\n",
       "    <tr>\n",
       "      <th>9</th>\n",
       "      <td>102046</td>\n",
       "      <td>105185.886233</td>\n",
       "    </tr>\n",
       "    <tr>\n",
       "      <th>10</th>\n",
       "      <td>82097</td>\n",
       "      <td>98970.102156</td>\n",
       "    </tr>\n",
       "    <tr>\n",
       "      <th>11</th>\n",
       "      <td>75347</td>\n",
       "      <td>86927.020507</td>\n",
       "    </tr>\n",
       "    <tr>\n",
       "      <th>12</th>\n",
       "      <td>121476</td>\n",
       "      <td>99747.075166</td>\n",
       "    </tr>\n",
       "    <tr>\n",
       "      <th>13</th>\n",
       "      <td>70699</td>\n",
       "      <td>105962.859243</td>\n",
       "    </tr>\n",
       "    <tr>\n",
       "      <th>14</th>\n",
       "      <td>114754</td>\n",
       "      <td>107905.291767</td>\n",
       "    </tr>\n",
       "    <tr>\n",
       "      <th>15</th>\n",
       "      <td>113528</td>\n",
       "      <td>95862.210118</td>\n",
       "    </tr>\n",
       "    <tr>\n",
       "      <th>16</th>\n",
       "      <td>80815</td>\n",
       "      <td>107516.805262</td>\n",
       "    </tr>\n",
       "    <tr>\n",
       "      <th>17</th>\n",
       "      <td>100484</td>\n",
       "      <td>109070.751281</td>\n",
       "    </tr>\n",
       "    <tr>\n",
       "      <th>18</th>\n",
       "      <td>108283</td>\n",
       "      <td>95862.210118</td>\n",
       "    </tr>\n",
       "    <tr>\n",
       "      <th>19</th>\n",
       "      <td>104061</td>\n",
       "      <td>105962.859243</td>\n",
       "    </tr>\n",
       "    <tr>\n",
       "      <th>20</th>\n",
       "      <td>97285</td>\n",
       "      <td>104408.913223</td>\n",
       "    </tr>\n",
       "    <tr>\n",
       "      <th>21</th>\n",
       "      <td>75281</td>\n",
       "      <td>104020.426719</td>\n",
       "    </tr>\n",
       "    <tr>\n",
       "      <th>22</th>\n",
       "      <td>109365</td>\n",
       "      <td>108293.778272</td>\n",
       "    </tr>\n",
       "    <tr>\n",
       "      <th>23</th>\n",
       "      <td>71241</td>\n",
       "      <td>105962.859243</td>\n",
       "    </tr>\n",
       "    <tr>\n",
       "      <th>24</th>\n",
       "      <td>91938</td>\n",
       "      <td>95473.723613</td>\n",
       "    </tr>\n",
       "    <tr>\n",
       "      <th>25</th>\n",
       "      <td>120362</td>\n",
       "      <td>100524.048175</td>\n",
       "    </tr>\n",
       "    <tr>\n",
       "      <th>26</th>\n",
       "      <td>78899</td>\n",
       "      <td>92365.831574</td>\n",
       "    </tr>\n",
       "    <tr>\n",
       "      <th>27</th>\n",
       "      <td>90342</td>\n",
       "      <td>102854.967204</td>\n",
       "    </tr>\n",
       "    <tr>\n",
       "      <th>28</th>\n",
       "      <td>94984</td>\n",
       "      <td>105574.372738</td>\n",
       "    </tr>\n",
       "    <tr>\n",
       "      <th>29</th>\n",
       "      <td>72322</td>\n",
       "      <td>104797.399728</td>\n",
       "    </tr>\n",
       "  </tbody>\n",
       "</table>\n",
       "</div>"
      ],
      "text/plain": [
       "    Actual      Predicted\n",
       "0    89276  105574.372738\n",
       "1    98200  105574.372738\n",
       "2   107339  109070.751281\n",
       "3   104199   92365.831574\n",
       "4   121338  109070.751281\n",
       "5    99003   98193.129147\n",
       "6   123212  105185.886233\n",
       "7   107444   96250.696622\n",
       "8   103769  107516.805262\n",
       "9   102046  105185.886233\n",
       "10   82097   98970.102156\n",
       "11   75347   86927.020507\n",
       "12  121476   99747.075166\n",
       "13   70699  105962.859243\n",
       "14  114754  107905.291767\n",
       "15  113528   95862.210118\n",
       "16   80815  107516.805262\n",
       "17  100484  109070.751281\n",
       "18  108283   95862.210118\n",
       "19  104061  105962.859243\n",
       "20   97285  104408.913223\n",
       "21   75281  104020.426719\n",
       "22  109365  108293.778272\n",
       "23   71241  105962.859243\n",
       "24   91938   95473.723613\n",
       "25  120362  100524.048175\n",
       "26   78899   92365.831574\n",
       "27   90342  102854.967204\n",
       "28   94984  105574.372738\n",
       "29   72322  104797.399728"
      ]
     },
     "execution_count": 43,
     "metadata": {},
     "output_type": "execute_result"
    }
   ],
   "source": [
    "data = pd.DataFrame({'Actual': y_test.flatten(), 'Predicted': y_pred.flatten()})\n",
    "data.head(30)"
   ]
  },
  {
   "cell_type": "markdown",
   "id": "e6fefe0a",
   "metadata": {},
   "source": [
    "#### Thoughts:\n",
    "Model could have performed better. Its likely that removing outliers might help, I was hesitant to remove the outliers because they represent actual lap times on real tracks. Also longer tracks will have longer lap times."
   ]
  },
  {
   "cell_type": "code",
   "execution_count": null,
   "id": "918495d5",
   "metadata": {},
   "outputs": [],
   "source": []
  }
 ],
 "metadata": {
  "kernelspec": {
   "display_name": "Python 3 (ipykernel)",
   "language": "python",
   "name": "python3"
  },
  "language_info": {
   "codemirror_mode": {
    "name": "ipython",
    "version": 3
   },
   "file_extension": ".py",
   "mimetype": "text/x-python",
   "name": "python",
   "nbconvert_exporter": "python",
   "pygments_lexer": "ipython3",
   "version": "3.10.9"
  }
 },
 "nbformat": 4,
 "nbformat_minor": 5
}
